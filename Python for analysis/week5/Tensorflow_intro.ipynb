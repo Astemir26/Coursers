{
 "cells": [
  {
   "cell_type": "code",
   "execution_count": 1,
   "metadata": {},
   "outputs": [],
   "source": [
    "import tensorflow as tf\n",
    "import numpy as np\n",
    "tf.compat.v1.disable_eager_execution()"
   ]
  },
  {
   "cell_type": "code",
   "execution_count": 2,
   "metadata": {},
   "outputs": [
    {
     "name": "stdout",
     "output_type": "stream",
     "text": [
      "b'Hello'\n"
     ]
    }
   ],
   "source": [
    "sess = tf.compat.v1.Session()\n",
    "hello = tf.constant(\"Hello\")\n",
    "result = sess.run(hello)\n",
    "print(result)\n",
    "\n",
    "sess.close()\n"
   ]
  },
  {
   "cell_type": "code",
   "execution_count": 3,
   "metadata": {},
   "outputs": [],
   "source": [
    "a = tf.constant(2)\n",
    "b = tf.constant(3)\n",
    "c = tf.constant([2,6,3,8])\n",
    "d = tf.constant([2,5,7,9])"
   ]
  },
  {
   "cell_type": "code",
   "execution_count": 4,
   "metadata": {},
   "outputs": [
    {
     "name": "stdout",
     "output_type": "stream",
     "text": [
      "a = 2, b = 3, c = [2 6 3 8], d = [2 5 7 9]\n",
      "\n",
      "a + b = 5\n",
      "a * b = 6\n",
      "c + d = [ 4 11 10 17]\n",
      "c * d = [ 4 30 21 72]\n",
      "\n"
     ]
    }
   ],
   "source": [
    "with tf.compat.v1.Session() as sess:\n",
    "    print(\"a = {}, b = {}, c = {}, d = {}\\n\".format(\n",
    "    sess.run(a), sess.run(b),\n",
    "    sess.run(c), sess.run(d)\n",
    "    ))\n",
    "    print(\"a + b = {}\\n\"\n",
    "          \"a * b = {}\".format(\n",
    "    sess.run(a+b), sess.run(a*b)))\n",
    "    print(\"c + d = {}\\n\" \n",
    "          \"c * d = {}\\n\".format(\n",
    "    sess.run(c+d), sess.run(c*d)))"
   ]
  },
  {
   "cell_type": "code",
   "execution_count": 5,
   "metadata": {},
   "outputs": [],
   "source": [
    "a = tf.compat.v1.placeholder(tf.int16)\n",
    "b = tf.compat.v1.placeholder(tf.int16)\n",
    "add = tf.compat.v1.add(a,b)\n",
    "mul = tf.compat.v1.multiply(a,b)"
   ]
  },
  {
   "cell_type": "code",
   "execution_count": 6,
   "metadata": {},
   "outputs": [
    {
     "name": "stdout",
     "output_type": "stream",
     "text": [
      "9\n"
     ]
    }
   ],
   "source": [
    "with tf.compat.v1.Session() as sess:\n",
    "    tf.compat.v1.summary.FileWriter('logs', sess.graph)\n",
    "    print(sess.run(add, feed_dict={a:4, b:5}))"
   ]
  },
  {
   "cell_type": "code",
   "execution_count": 7,
   "metadata": {},
   "outputs": [],
   "source": [
    "import matplotlib.pyplot as plt"
   ]
  },
  {
   "cell_type": "code",
   "execution_count": 8,
   "metadata": {},
   "outputs": [],
   "source": [
    "from sklearn.datasets import make_regression"
   ]
  },
  {
   "cell_type": "code",
   "execution_count": 9,
   "metadata": {},
   "outputs": [],
   "source": [
    "n_samples = 42\n",
    "X_train, y_train = make_regression(\n",
    "    n_samples=n_samples, n_features = 1,\n",
    "    noise = 15, random_state = 7)\n"
   ]
  },
  {
   "cell_type": "code",
   "execution_count": 10,
   "metadata": {},
   "outputs": [
    {
     "data": {
      "text/plain": [
       "array([[-0.04538603],\n",
       "       [ 2.02907222],\n",
       "       [-0.1799864 ],\n",
       "       [-0.38713994],\n",
       "       [ 0.12388091]])"
      ]
     },
     "execution_count": 10,
     "metadata": {},
     "output_type": "execute_result"
    }
   ],
   "source": [
    "X_train[:5]"
   ]
  },
  {
   "cell_type": "code",
   "execution_count": 11,
   "metadata": {},
   "outputs": [],
   "source": [
    "X_train -= X_train.mean()\n",
    "X_train /= X_train.std()\n",
    "y_train -= y_train.mean()\n",
    "y_train /= y_train.std()"
   ]
  },
  {
   "cell_type": "code",
   "execution_count": 12,
   "metadata": {},
   "outputs": [
    {
     "data": {
      "text/plain": [
       "array([[ 0.03264883],\n",
       "       [ 2.00453732],\n",
       "       [-0.09529635],\n",
       "       [-0.29220736],\n",
       "       [ 0.19354651]])"
      ]
     },
     "execution_count": 12,
     "metadata": {},
     "output_type": "execute_result"
    }
   ],
   "source": [
    "X_train[:5]"
   ]
  },
  {
   "cell_type": "code",
   "execution_count": 13,
   "metadata": {},
   "outputs": [],
   "source": [
    "X = tf.compat.v1.placeholder(tf.float32)\n",
    "y = tf.compat.v1.placeholder(tf.float32)\n",
    "\n",
    "W = tf.Variable(np.random.random(), name=\"weight\")\n",
    "b = tf.Variable(np.random.random(), name=\"bias\")\n"
   ]
  },
  {
   "cell_type": "code",
   "execution_count": 14,
   "metadata": {},
   "outputs": [],
   "source": [
    "preds = tf.add(tf.multiply(X,W), b)"
   ]
  },
  {
   "cell_type": "code",
   "execution_count": 15,
   "metadata": {},
   "outputs": [],
   "source": [
    "learning_rate = tf.compat.v1.placeholder(tf.float32, shape=[])"
   ]
  },
  {
   "cell_type": "code",
   "execution_count": 18,
   "metadata": {},
   "outputs": [],
   "source": [
    "cost = tf.reduce_sum(tf.pow(preds-y, 2)) / n_samples\n",
    "optimizer = tf.compat.v1.train.GradientDescentOptimizer(learning_rate).minimize(cost)\n",
    "\n",
    "init = tf.compat.v1.global_variables_initializer()"
   ]
  },
  {
   "cell_type": "code",
   "execution_count": 22,
   "metadata": {},
   "outputs": [
    {
     "name": "stdout",
     "output_type": "stream",
     "text": [
      "Epoch #0: cost = 57.967003\n",
      "Epoch #100: cost = 67.63497\n",
      "Epoch #200: cost = 67.46205\n",
      "Epoch #300: cost = 67.38157\n",
      "Epoch #400: cost = 67.34587\n",
      "Epoch #500: cost = 67.32943\n",
      "Epoch #600: cost = 67.32154\n",
      "Epoch #700: cost = 67.31766\n",
      "Epoch #800: cost = 67.31455\n",
      "Epoch #900: cost = 67.314156\n"
     ]
    }
   ],
   "source": [
    "epochs = 1000\n",
    "sess = tf.compat.v1.Session()\n",
    "\n",
    "sess.run(init)\n",
    "lr = 0.1\n",
    "for epoch in range(epochs):\n",
    "    for x_batch, y_batch in zip(X_train, y_train):\n",
    "        sess.run(optimizer, feed_dict={X:x_batch, y:y_batch, learning_rate:lr})\n",
    "\n",
    "    if epoch % 100 == 0:\n",
    "        lr /= 2\n",
    "        e = sess.run(cost, feed_dict={X:X_train, y:y_train})\n",
    "        print('Epoch #' + str(epoch) + \": cost =\", e)"
   ]
  },
  {
   "cell_type": "code",
   "execution_count": 23,
   "metadata": {},
   "outputs": [
    {
     "data": {
      "image/png": "[encoded data removed]",
      "text/plain": [
       "<Figure size 432x288 with 1 Axes>"
      ]
     },
     "metadata": {
      "needs_background": "light"
     },
     "output_type": "display_data"
    }
   ],
   "source": [
    "plt.plot(X_train, y_train, 'ro', label=\"Origin\")\n",
    "plt.plot(X_train, sess.run(W) * X_train + sess.run(b), label=\"fitted line\")\n",
    "plt.legend()\n",
    "plt.show()"
   ]
  },
  {
   "cell_type": "code",
   "execution_count": 24,
   "metadata": {},
   "outputs": [],
   "source": [
    "sess.close()"
   ]
  },
  {
   "cell_type": "code",
   "execution_count": null,
   "metadata": {},
   "outputs": [],
   "source": []
  }
 ],
 "metadata": {
  "kernelspec": {
   "display_name": "Python 3",
   "language": "python",
   "name": "python3"
  },
  "language_info": {
   "codemirror_mode": {
    "name": "ipython",
    "version": 3
   },
   "file_extension": ".py",
   "mimetype": "text/x-python",
   "name": "python",
   "nbconvert_exporter": "python",
   "pygments_lexer": "ipython3",
   "version": "3.8.3"
  }
 },
 "nbformat": 4,
 "nbformat_minor": 4
}
