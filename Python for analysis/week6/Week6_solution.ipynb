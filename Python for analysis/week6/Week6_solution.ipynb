{
 "cells": [
  {
   "cell_type": "code",
   "execution_count": 7,
   "metadata": {
    "colab": {},
    "colab_type": "code",
    "id": "HLnSpORKXzNW"
   },
   "outputs": [],
   "source": [
    "import tensorflow as tf\n",
    "import numpy as np\n",
    "from tensorflow import keras\n",
    "import matplotlib.pyplot as plt\n",
    "import pandas as pd\n",
    "from IPython.display import clear_output\n",
    "from sklearn.preprocessing import OneHotEncoder"
   ]
  },
  {
   "cell_type": "code",
   "execution_count": 8,
   "metadata": {},
   "outputs": [],
   "source": [
    "train_set = pd.read_csv('fashion-mnist_train.csv')\n",
    "test_set = pd.read_csv('fashion-mnist_test.csv')"
   ]
  },
  {
   "cell_type": "code",
   "execution_count": 9,
   "metadata": {},
   "outputs": [
    {
     "data": {
      "text/html": [
       "<div>\n",
       "<style scoped>\n",
       "    .dataframe tbody tr th:only-of-type {\n",
       "        vertical-align: middle;\n",
       "    }\n",
       "\n",
       "    .dataframe tbody tr th {\n",
       "        vertical-align: top;\n",
       "    }\n",
       "\n",
       "    .dataframe thead th {\n",
       "        text-align: right;\n",
       "    }\n",
       "</style>\n",
       "<table border=\"1\" class=\"dataframe\">\n",
       "  <thead>\n",
       "    <tr style=\"text-align: right;\">\n",
       "      <th></th>\n",
       "      <th>label</th>\n",
       "      <th>pixel1</th>\n",
       "      <th>pixel2</th>\n",
       "      <th>pixel3</th>\n",
       "      <th>pixel4</th>\n",
       "      <th>pixel5</th>\n",
       "      <th>pixel6</th>\n",
       "      <th>pixel7</th>\n",
       "      <th>pixel8</th>\n",
       "      <th>pixel9</th>\n",
       "      <th>...</th>\n",
       "      <th>pixel775</th>\n",
       "      <th>pixel776</th>\n",
       "      <th>pixel777</th>\n",
       "      <th>pixel778</th>\n",
       "      <th>pixel779</th>\n",
       "      <th>pixel780</th>\n",
       "      <th>pixel781</th>\n",
       "      <th>pixel782</th>\n",
       "      <th>pixel783</th>\n",
       "      <th>pixel784</th>\n",
       "    </tr>\n",
       "  </thead>\n",
       "  <tbody>\n",
       "    <tr>\n",
       "      <th>0</th>\n",
       "      <td>2</td>\n",
       "      <td>0</td>\n",
       "      <td>0</td>\n",
       "      <td>0</td>\n",
       "      <td>0</td>\n",
       "      <td>0</td>\n",
       "      <td>0</td>\n",
       "      <td>0</td>\n",
       "      <td>0</td>\n",
       "      <td>0</td>\n",
       "      <td>...</td>\n",
       "      <td>0</td>\n",
       "      <td>0</td>\n",
       "      <td>0</td>\n",
       "      <td>0</td>\n",
       "      <td>0</td>\n",
       "      <td>0</td>\n",
       "      <td>0</td>\n",
       "      <td>0</td>\n",
       "      <td>0</td>\n",
       "      <td>0</td>\n",
       "    </tr>\n",
       "    <tr>\n",
       "      <th>1</th>\n",
       "      <td>9</td>\n",
       "      <td>0</td>\n",
       "      <td>0</td>\n",
       "      <td>0</td>\n",
       "      <td>0</td>\n",
       "      <td>0</td>\n",
       "      <td>0</td>\n",
       "      <td>0</td>\n",
       "      <td>0</td>\n",
       "      <td>0</td>\n",
       "      <td>...</td>\n",
       "      <td>0</td>\n",
       "      <td>0</td>\n",
       "      <td>0</td>\n",
       "      <td>0</td>\n",
       "      <td>0</td>\n",
       "      <td>0</td>\n",
       "      <td>0</td>\n",
       "      <td>0</td>\n",
       "      <td>0</td>\n",
       "      <td>0</td>\n",
       "    </tr>\n",
       "    <tr>\n",
       "      <th>2</th>\n",
       "      <td>6</td>\n",
       "      <td>0</td>\n",
       "      <td>0</td>\n",
       "      <td>0</td>\n",
       "      <td>0</td>\n",
       "      <td>0</td>\n",
       "      <td>0</td>\n",
       "      <td>0</td>\n",
       "      <td>5</td>\n",
       "      <td>0</td>\n",
       "      <td>...</td>\n",
       "      <td>0</td>\n",
       "      <td>0</td>\n",
       "      <td>0</td>\n",
       "      <td>30</td>\n",
       "      <td>43</td>\n",
       "      <td>0</td>\n",
       "      <td>0</td>\n",
       "      <td>0</td>\n",
       "      <td>0</td>\n",
       "      <td>0</td>\n",
       "    </tr>\n",
       "  </tbody>\n",
       "</table>\n",
       "<p>3 rows × 785 columns</p>\n",
       "</div>"
      ],
      "text/plain": [
       "   label  pixel1  pixel2  pixel3  pixel4  pixel5  pixel6  pixel7  pixel8  \\\n",
       "0      2       0       0       0       0       0       0       0       0   \n",
       "1      9       0       0       0       0       0       0       0       0   \n",
       "2      6       0       0       0       0       0       0       0       5   \n",
       "\n",
       "   pixel9  ...  pixel775  pixel776  pixel777  pixel778  pixel779  pixel780  \\\n",
       "0       0  ...         0         0         0         0         0         0   \n",
       "1       0  ...         0         0         0         0         0         0   \n",
       "2       0  ...         0         0         0        30        43         0   \n",
       "\n",
       "   pixel781  pixel782  pixel783  pixel784  \n",
       "0         0         0         0         0  \n",
       "1         0         0         0         0  \n",
       "2         0         0         0         0  \n",
       "\n",
       "[3 rows x 785 columns]"
      ]
     },
     "execution_count": 9,
     "metadata": {},
     "output_type": "execute_result"
    }
   ],
   "source": [
    "train_set.head(3)"
   ]
  },
  {
   "cell_type": "code",
   "execution_count": 10,
   "metadata": {},
   "outputs": [],
   "source": [
    "x_train = train_set.loc[:, train_set.columns != 'label'] \n",
    "x_test = test_set.loc[:, test_set.columns != 'label']\n",
    "y_train = train_set['label']\n",
    "y_test = test_set['label']"
   ]
  },
  {
   "cell_type": "code",
   "execution_count": 11,
   "metadata": {},
   "outputs": [],
   "source": [
    "x_train = x_train.astype('float32')\n",
    "x_test = x_test.astype('float32')"
   ]
  },
  {
   "cell_type": "code",
   "execution_count": 12,
   "metadata": {},
   "outputs": [],
   "source": [
    "x_train /= 255\n",
    "x_test /= 255"
   ]
  },
  {
   "cell_type": "code",
   "execution_count": 13,
   "metadata": {},
   "outputs": [],
   "source": [
    "enc = OneHotEncoder()"
   ]
  },
  {
   "cell_type": "code",
   "execution_count": 14,
   "metadata": {},
   "outputs": [],
   "source": [
    "y_train = enc.fit_transform(np.reshape(np.array(y_train), (-1,1))).toarray()\n",
    "y_test = enc.transform(np.reshape(np.array(y_test), (-1,1))).toarray()"
   ]
  },
  {
   "cell_type": "code",
   "execution_count": 39,
   "metadata": {
    "colab": {},
    "colab_type": "code",
    "id": "CNF8iomTXzNn"
   },
   "outputs": [],
   "source": [
    "class SampleModel:\n",
    "    def __init__(self, epochs, batch_size=None, verbose=0):\n",
    "        self.epochs = epochs\n",
    "        self.verbose = verbose\n",
    "        self.batch_size = batch_size\n",
    "        self.hist_df = pd.DataFrame()\n",
    "        self.model = keras.models.Sequential()\n",
    "        \n",
    "    def add(self, layer_obj):\n",
    "        self.model.add(layer_obj)\n",
    "\n",
    "    def compile(self):\n",
    "        self.model.compile(loss='categorical_crossentropy',\n",
    "                           optimizer=keras.optimizers.SGD(momentum=0.9),\n",
    "                           metrics=['accuracy'],\n",
    "                          )\n",
    "        \n",
    "    def fit(self, x, y, validation_data=None, callbacks=None):\n",
    "        hist = self.model.fit(x, y,\n",
    "                              batch_size=self.batch_size,\n",
    "                              epochs=self.epochs,\n",
    "                              verbose=self.verbose,\n",
    "                              validation_data=validation_data,\n",
    "                              callbacks=callbacks,\n",
    "                            )\n",
    "        self.hist_df = pd.DataFrame()\n",
    "        for name in filter(lambda x: x in hist.history.keys(), ['accuracy', 'val_accuracy']):\n",
    "            self.hist_df.insert(len(self.hist_df.columns), \n",
    "                                name, \n",
    "                                hist.history[name])\n",
    "        if not self.hist_df.empty:\n",
    "            self.hist_df.index +=1\n",
    "\n",
    "    def accuracy(self, x, y, verbose=0):\n",
    "        loss, accuracy = self.model.evaluate(x, y, verbose=0)\n",
    "        if verbose:\n",
    "            print('accuracy:', accuracy)\n",
    "        else:\n",
    "            return accuracy"
   ]
  },
  {
   "cell_type": "code",
   "execution_count": 40,
   "metadata": {
    "colab": {},
    "colab_type": "code",
    "id": "RAlEfoxRXzNr"
   },
   "outputs": [],
   "source": [
    "def graph(df, title, x_axis=None):\n",
    "    legend = ['Тренировочные данные', 'Тестовые данные']\n",
    "    if x_axis is not None:\n",
    "        df = df.loc[x_axis,]\n",
    "    for name in filter(lambda x: x in df.columns, ['accuracy', 'val_accuracy']):\n",
    "        plt.plot(df[name])\n",
    "    plt.title(title)\n",
    "    plt.ylabel('Точность')\n",
    "    plt.xlabel('Эпоха')\n",
    "    plt.legend(legend)\n",
    "    plt.show()        "
   ]
  },
  {
   "cell_type": "code",
   "execution_count": 41,
   "metadata": {
    "colab": {},
    "colab_type": "code",
    "id": "ZN22BRLBXzNu"
   },
   "outputs": [],
   "source": [
    "def stop_callback():\n",
    "    return keras.callbacks.EarlyStopping(monitor='val_accuracy', patience=15, restore_best_weights=True)"
   ]
  },
  {
   "cell_type": "code",
   "execution_count": 42,
   "metadata": {
    "colab": {},
    "colab_type": "code",
    "id": "dTKHo_WvXzNy"
   },
   "outputs": [],
   "source": [
    "def tensorboard():\n",
    "    return keras.callbacks.TensorBoard()"
   ]
  },
  {
   "cell_type": "code",
   "execution_count": 43,
   "metadata": {
    "colab": {},
    "colab_type": "code",
    "id": "OaaJS5HYXzN2"
   },
   "outputs": [],
   "source": [
    "class Prop:\n",
    "    num_classes = 10\n",
    "    epochs=1000\n",
    "    verbose=0"
   ]
  },
  {
   "cell_type": "markdown",
   "metadata": {
    "colab_type": "text",
    "id": "GllK9NkDXzN4"
   },
   "source": [
    "### <center>1. Логистическая регрессия"
   ]
  },
  {
   "cell_type": "code",
   "execution_count": 44,
   "metadata": {
    "colab": {},
    "colab_type": "code",
    "id": "5Y3N1TlLXzN5"
   },
   "outputs": [],
   "source": [
    "def gen_log_model(epochs, batch_size=None):\n",
    "    model = SampleModel(epochs, batch_size=batch_size, verbose=Prop.verbose)\n",
    "    model.add(keras.layers.Dense(Prop.num_classes, activation='softmax', input_shape=(784,)))\n",
    "    model.compile()\n",
    "    return model"
   ]
  },
  {
   "cell_type": "code",
   "execution_count": 45,
   "metadata": {
    "colab": {
     "base_uri": "https://localhost:8080/",
     "height": 34
    },
    "colab_type": "code",
    "id": "TH2zIwarXzN9",
    "outputId": "24126844-f9dc-4ac2-8bca-fc096d6977f2"
   },
   "outputs": [
    {
     "name": "stdout",
     "output_type": "stream",
     "text": [
      "accuracy: 0.8561999797821045\n"
     ]
    }
   ],
   "source": [
    "log_model = gen_log_model(Prop.epochs)\n",
    "log_model.fit(x_train, y_train,\n",
    "              validation_data=(x_test, y_test),\n",
    "              callbacks=[stop_callback(), tensorboard()]\n",
    "             )\n",
    "clear_output()\n",
    "log_accuracy = log_model.accuracy(x_test, y_test)\n",
    "print(f\"accuracy: {log_accuracy}\")"
   ]
  },
  {
   "cell_type": "code",
   "execution_count": 46,
   "metadata": {
    "colab": {
     "base_uri": "https://localhost:8080/",
     "height": 376
    },
    "colab_type": "code",
    "id": "HDk1LjGGXzOB",
    "outputId": "7281a5fa-6556-43f8-acb6-24b22811c02d"
   },
   "outputs": [
    {
     "data": {
      "image/png": "[encoded data removed]",
      "text/plain": [
       "<Figure size 432x288 with 1 Axes>"
      ]
     },
     "metadata": {
      "needs_background": "light"
     },
     "output_type": "display_data"
    }
   ],
   "source": [
    "graph(log_model.hist_df, 'Точность модели')"
   ]
  },
  {
   "cell_type": "markdown",
   "metadata": {
    "colab_type": "text",
    "id": "-d5twNZuXzOF"
   },
   "source": [
    "### <center>2. Полносвязная нейронная сеть"
   ]
  },
  {
   "cell_type": "code",
   "execution_count": 47,
   "metadata": {
    "colab": {},
    "colab_type": "code",
    "id": "X2L5U1yAXzOH"
   },
   "outputs": [],
   "source": [
    "def get_hopfield(epochs, batch_size=None):\n",
    "    model = SampleModel(epochs, batch_size=batch_size)\n",
    "    model.add(keras.layers.Dense(32, activation='relu', input_shape=(784,)))\n",
    "    model.add(keras.layers.Dense(64, activation='relu'))\n",
    "    model.add(keras.layers.Dense(Prop.num_classes, activation='softmax'))\n",
    "    model.compile()\n",
    "    return model"
   ]
  },
  {
   "cell_type": "code",
   "execution_count": 48,
   "metadata": {
    "colab": {
     "base_uri": "https://localhost:8080/",
     "height": 34
    },
    "colab_type": "code",
    "id": "fE980H0IXzOM",
    "outputId": "ee886565-caea-4341-b021-a2988f4614f4"
   },
   "outputs": [
    {
     "name": "stdout",
     "output_type": "stream",
     "text": [
      "accuracy: 0.8827000260353088\n"
     ]
    }
   ],
   "source": [
    "hopfield = get_hopfield(Prop.epochs)\n",
    "hopfield.fit(x_train, y_train,\n",
    "             validation_data=(x_test, y_test),\n",
    "             callbacks=[stop_callback()]\n",
    "            )\n",
    "hopf_accuracy = hopfield.accuracy(x_test, y_test)\n",
    "print(f\"accuracy: {hopf_accuracy}\")"
   ]
  },
  {
   "cell_type": "code",
   "execution_count": 49,
   "metadata": {
    "colab": {},
    "colab_type": "code",
    "id": "eZ60KKrBXzOP",
    "outputId": "ec864cfe-bb0f-475c-d9c8-65d26e866f8b"
   },
   "outputs": [
    {
     "name": "stdout",
     "output_type": "stream",
     "text": [
      "85.62% точность логистической регрессии\n",
      "88.27% точность полносвязной сети\n"
     ]
    }
   ],
   "source": [
    "print(f\"{log_accuracy:.2%} точность логистической регрессии\")\n",
    "print(f\"{hopf_accuracy:.2%} точность полносвязной сети\")"
   ]
  },
  {
   "cell_type": "markdown",
   "metadata": {
    "colab_type": "text",
    "id": "xCkd_ZiYXzOS"
   },
   "source": [
    "<b>Вывод:</b> Точность полносвязной сети должна превышать точность логистической регрессии, как минимум, потому, что полносвязная сеть представляет собой более сложную струкутуру, которая позволяет более точно вычислять весовые коэффициенты"
   ]
  },
  {
   "cell_type": "markdown",
   "metadata": {
    "colab_type": "text",
    "id": "0zYStR2CXzOU"
   },
   "source": [
    "### <center>3. Сверточная нейронная сеть"
   ]
  },
  {
   "cell_type": "code",
   "execution_count": 52,
   "metadata": {
    "colab": {},
    "colab_type": "code",
    "id": "JucRx6MoXzOV"
   },
   "outputs": [],
   "source": [
    "x_train_pixel = x_train.values.reshape(len(x_train), 28, 28, 1)\n",
    "x_test_pixel  = x_test.values.reshape(len(x_test), 28, 28, 1)"
   ]
  },
  {
   "cell_type": "code",
   "execution_count": 55,
   "metadata": {
    "colab": {},
    "colab_type": "code",
    "id": "LmlZXK7jXzOY"
   },
   "outputs": [],
   "source": [
    "def get_sub_layers(epochs, batch_size=None):\n",
    "    model = SampleModel(epochs, batch_size=batch_size)\n",
    "    model.add(keras.layers.Convolution2D(32, \n",
    "                                         kernel_size=(3,3), \n",
    "                                         input_shape=(28,28, 1),\n",
    "                                         activation='relu'))\n",
    "    model.add(keras.layers.MaxPooling2D((2,2)))\n",
    "    model.add(keras.layers.Flatten())\n",
    "    model.add(keras.layers.Dense(32, activation='relu'))\n",
    "    model.add(keras.layers.Dense(Prop.num_classes, activation='softmax'))\n",
    "    model.compile()\n",
    "    return model"
   ]
  },
  {
   "cell_type": "code",
   "execution_count": 56,
   "metadata": {
    "colab": {
     "base_uri": "https://localhost:8080/",
     "height": 34
    },
    "colab_type": "code",
    "id": "6CmR3KsoXzOb",
    "outputId": "94e779d7-c1f0-4a4e-dd4b-c97f2808fe2d"
   },
   "outputs": [
    {
     "name": "stdout",
     "output_type": "stream",
     "text": [
      "accuracy: 0.9164000153541565\n"
     ]
    }
   ],
   "source": [
    "sub_layers = get_sub_layers(Prop.epochs)\n",
    "sub_layers.fit(x_train_pixel, y_train,\n",
    "               validation_data=(x_test_pixel, y_test),\n",
    "               callbacks=[stop_callback()]\n",
    "              )\n",
    "\n",
    "sub_accuracy = sub_layers.accuracy(x_test_pixel, y_test)\n",
    "print(f\"accuracy: {sub_accuracy}\")\n"
   ]
  },
  {
   "cell_type": "code",
   "execution_count": 57,
   "metadata": {
    "colab": {},
    "colab_type": "code",
    "id": "8vp8Ke1ovePb"
   },
   "outputs": [
    {
     "name": "stdout",
     "output_type": "stream",
     "text": [
      "88.27% точность полносвязной сети\n",
      "91.64% точность сверточной сети\n"
     ]
    }
   ],
   "source": [
    "print(f\"{hopf_accuracy:.2%} точность полносвязной сети\")\n",
    "print(f\"{sub_accuracy:.2%} точность сверточной сети\")"
   ]
  },
  {
   "cell_type": "markdown",
   "metadata": {
    "colab_type": "text",
    "id": "5LtyNlmavdkR"
   },
   "source": [
    "<b>Вывод:</b> Добавление слоев субдискретизации позволило получить более точную модель при более простой структуре модели (по сложности вычислений в модели)"
   ]
  },
  {
   "cell_type": "markdown",
   "metadata": {
    "colab_type": "text",
    "id": "lA4tajrOXzOe"
   },
   "source": [
    "#### Увеличенное количество слоев"
   ]
  },
  {
   "cell_type": "code",
   "execution_count": 58,
   "metadata": {
    "colab": {},
    "colab_type": "code",
    "id": "2hM-BoYeXzOf"
   },
   "outputs": [],
   "source": [
    "def get_sub_layers_big(epochs, batch_size=None):\n",
    "    model = SampleModel(epochs, batch_size=batch_size)\n",
    "\n",
    "    model.add(keras.layers.Convolution2D(32, \n",
    "                                         kernel_size=(3,3), \n",
    "                                         input_shape=(28,28, 1),\n",
    "                                         activation='relu'))\n",
    "    model.add(keras.layers.MaxPooling2D((2,2)))\n",
    "    model.add(keras.layers.Convolution2D(64, \n",
    "                                         kernel_size=(3,3), \n",
    "                                         activation='relu'))\n",
    "    model.add(keras.layers.MaxPooling2D((2,2)))\n",
    "    model.add(keras.layers.Convolution2D(128, \n",
    "                                         kernel_size=(3,3), \n",
    "                                         activation='relu'))\n",
    "    model.add(keras.layers.MaxPooling2D((2,2)))\n",
    "    model.add(keras.layers.Flatten())\n",
    "    model.add(keras.layers.Dense(32, activation='relu'))\n",
    "    model.add(keras.layers.Dense(Prop.num_classes, activation='softmax'))\n",
    "    model.compile()\n",
    "    return model"
   ]
  },
  {
   "cell_type": "code",
   "execution_count": 59,
   "metadata": {
    "colab": {
     "base_uri": "https://localhost:8080/",
     "height": 34
    },
    "colab_type": "code",
    "id": "B0IibhoeXzOj",
    "outputId": "5017a89e-403e-403a-f4d3-cbc3a2d2ccb4"
   },
   "outputs": [
    {
     "name": "stdout",
     "output_type": "stream",
     "text": [
      "accuracy: 0.8996000289916992\n"
     ]
    }
   ],
   "source": [
    "sub_layers_big = get_sub_layers_big(Prop.epochs)\n",
    "sub_layers_big.fit(x_train_pixel, y_train,\n",
    "                   validation_data=(x_test_pixel, y_test),\n",
    "                   callbacks=[stop_callback()]\n",
    "                  )\n",
    "\n",
    "subbig_accuracy = sub_layers_big.accuracy(x_test_pixel, y_test)\n",
    "print(f\"accuracy: {subbig_accuracy}\")"
   ]
  },
  {
   "cell_type": "markdown",
   "metadata": {},
   "source": [
    "<b>Вывод:</b> Точность модели снизилась, возможно это связано с неверным выбором параметров модели"
   ]
  },
  {
   "cell_type": "markdown",
   "metadata": {
    "colab_type": "text",
    "id": "zubjLMhQXzOm"
   },
   "source": [
    "#### Добавление Batch Normalization слоев"
   ]
  },
  {
   "cell_type": "code",
   "execution_count": 60,
   "metadata": {
    "colab": {},
    "colab_type": "code",
    "id": "Pf4cdLlEXzOn"
   },
   "outputs": [],
   "source": [
    "def get_batch_norm(epochs, batch_size=None):\n",
    "    model = SampleModel(epochs, batch_size=batch_size)\n",
    "\n",
    "    model.add(keras.layers.Conv2D(32,\n",
    "                                  kernel_size=(3,3), \n",
    "                                  input_shape=(28,28, 1),\n",
    "                                  activation='relu',\n",
    "                                 ))\n",
    "    model.add(keras.layers.BatchNormalization())\n",
    "    model.add(keras.layers.Conv2D(32,\n",
    "                                  kernel_size=(3,3), \n",
    "                                  input_shape=(28,28, 1),\n",
    "                                  use_bias=False,\n",
    "                                 ))\n",
    "    model.add(keras.layers.BatchNormalization())\n",
    "    model.add(keras.layers.MaxPooling2D((2,2)))\n",
    "    model.add(keras.layers.Dropout(0.2))\n",
    "\n",
    "    model.add(keras.layers.Conv2D(64,\n",
    "                                  kernel_size=(3,3), \n",
    "                                  input_shape=(28,28, 1),\n",
    "                                  activation='relu',\n",
    "                                 ))\n",
    "    model.add(keras.layers.BatchNormalization())\n",
    "    model.add(keras.layers.Conv2D(64,\n",
    "                                  kernel_size=(3,3), \n",
    "                                  input_shape=(28,28, 1),\n",
    "                                  use_bias=False,\n",
    "                                 ))\n",
    "    model.add(keras.layers.BatchNormalization())\n",
    "    model.add(keras.layers.MaxPooling2D((2,2)))\n",
    "    model.add(keras.layers.Dropout(0.2))\n",
    "    \n",
    "    model.add(keras.layers.Flatten())\n",
    "\n",
    "    model.add(keras.layers.Dense(32, activation='relu',use_bias=False))\n",
    "    model.add(keras.layers.BatchNormalization())\n",
    "    model.add(keras.layers.Dropout(0.2))\n",
    "\n",
    "    model.add(keras.layers.Dense(Prop.num_classes, activation='softmax'))\n",
    "    model.compile()\n",
    "    return model"
   ]
  },
  {
   "cell_type": "code",
   "execution_count": 61,
   "metadata": {
    "colab": {
     "base_uri": "https://localhost:8080/",
     "height": 88
    },
    "colab_type": "code",
    "id": "dM8Ig3bcXzOq",
    "outputId": "40fd7f20-2e84-4dc9-92e4-c640357cd0ad"
   },
   "outputs": [
    {
     "name": "stdout",
     "output_type": "stream",
     "text": [
      "accuracy: 0.9380000233650208\n"
     ]
    }
   ],
   "source": [
    "batch_norm = get_batch_norm(Prop.epochs)\n",
    "batch_norm.fit(x_train_pixel, y_train,\n",
    "               validation_data=(x_test_pixel, y_test),\n",
    "               callbacks=[stop_callback()]\n",
    "              )\n",
    "\n",
    "clear_output()\n",
    "batch_norm_accuracy = batch_norm.accuracy(x_test_pixel, y_test)\n",
    "print(f\"accuracy: {batch_norm_accuracy}\")\n"
   ]
  },
  {
   "cell_type": "markdown",
   "metadata": {
    "colab_type": "text",
    "id": "ZANv1p3lXzOu"
   },
   "source": [
    "#### Справка по всем моделям"
   ]
  },
  {
   "cell_type": "code",
   "execution_count": 63,
   "metadata": {
    "colab": {},
    "colab_type": "code",
    "id": "-eCHfLPcXzOv"
   },
   "outputs": [
    {
     "name": "stdout",
     "output_type": "stream",
     "text": [
      "85.62% точность логистической регрессии\n",
      "88.27% точность полносвязной сети\n",
      "91.64% точность сверточной сети\n",
      "89.96% точность с увеличенным количеством слоев субдискретизации\n",
      "93.80% точность модели с batch-нормализацией\n"
     ]
    }
   ],
   "source": [
    "print(f\"{log_accuracy:.2%} точность логистической регрессии\")\n",
    "print(f\"{hopf_accuracy:.2%} точность полносвязной сети\")\n",
    "print(f\"{sub_accuracy:.2%} точность сверточной сети\")\n",
    "print(f\"{subbig_accuracy:.2%} точность с увеличенным количеством слоев субдискретизации\")\n",
    "print(f\"{batch_norm_accuracy:.2%} точность модели с batch-нормализацией\")\n"
   ]
  },
  {
   "cell_type": "code",
   "execution_count": 65,
   "metadata": {},
   "outputs": [
    {
     "data": {
      "image/png": "[encoded data removed]",
      "text/plain": [
       "<Figure size 432x288 with 1 Axes>"
      ]
     },
     "metadata": {
      "needs_background": "light"
     },
     "output_type": "display_data"
    },
    {
     "data": {
      "image/png": "[encoded data removed]",
      "text/plain": [
       "<Figure size 432x288 with 1 Axes>"
      ]
     },
     "metadata": {
      "needs_background": "light"
     },
     "output_type": "display_data"
    },
    {
     "data": {
      "image/png": "[encoded data removed]",
      "text/plain": [
       "<Figure size 432x288 with 1 Axes>"
      ]
     },
     "metadata": {
      "needs_background": "light"
     },
     "output_type": "display_data"
    },
    {
     "data": {
      "image/png": "[encoded data removed]",
      "text/plain": [
       "<Figure size 432x288 with 1 Axes>"
      ]
     },
     "metadata": {
      "needs_background": "light"
     },
     "output_type": "display_data"
    },
    {
     "data": {
      "image/png": "[encoded data removed]",
      "text/plain": [
       "<Figure size 432x288 with 1 Axes>"
      ]
     },
     "metadata": {
      "needs_background": "light"
     },
     "output_type": "display_data"
    }
   ],
   "source": [
    "graph(log_model.hist_df, 'Логистическая регрессия')\n",
    "graph(hopfield.hist_df, 'Полносвязная сеть')\n",
    "graph(sub_layers.hist_df, 'Сверточная сеть')\n",
    "graph(sub_layers_big.hist_df, 'Сеть с увеличенным количеством слоев субдискретизации')\n",
    "graph(batch_norm.hist_df, 'Сеть с batch-нормализацией')"
   ]
  },
  {
   "cell_type": "code",
   "execution_count": null,
   "metadata": {},
   "outputs": [],
   "source": []
  }
 ],
 "metadata": {
  "colab": {
   "collapsed_sections": [],
   "name": "w6_final_nn.ipynb",
   "provenance": [],
   "version": "0.3.2"
  },
  "kernelspec": {
   "display_name": "Python 3",
   "language": "python",
   "name": "python3"
  },
  "language_info": {
   "codemirror_mode": {
    "name": "ipython",
    "version": 3
   },
   "file_extension": ".py",
   "mimetype": "text/x-python",
   "name": "python",
   "nbconvert_exporter": "python",
   "pygments_lexer": "ipython3",
   "version": "3.7.10"
  }
 },
 "nbformat": 4,
 "nbformat_minor": 1
}
