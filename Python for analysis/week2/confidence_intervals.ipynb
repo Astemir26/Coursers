{
 "cells": [
  {
   "cell_type": "code",
   "execution_count": 1,
   "metadata": {},
   "outputs": [],
   "source": [
    "import pandas as pd\n",
    "import numpy as np\n",
    "from scipy import stats\n",
    "import matplotlib.pyplot as plt\n",
    "%matplotlib inline\n",
    "from tqdm import tqdm"
   ]
  },
  {
   "cell_type": "markdown",
   "metadata": {},
   "source": [
    "$$P(LB \\leqslant \\theta \\leqslant UB)=p$$\n",
    "𝑝  - уровень доверия, другими словами вероятность того, что доверительный интервал содержит верное значение. \n",
    " Границы LB и UB необходимо найти.\n"
   ]
  },
  {
   "cell_type": "markdown",
   "metadata": {},
   "source": [
    "# Нормальное распределение"
   ]
  },
  {
   "cell_type": "markdown",
   "metadata": {},
   "source": [
    "## Известная дисперсия\n",
    "В этом случае формула доверительного интервала выглядит следующим образом:\n",
    "$${P}\\left( \\bar{X} - z_{1-\\frac{\\alpha}{2}} \\frac{\\sigma}{\\sqrt{n}} \\le \\mu \\le \\bar{X} + z_{1-\\frac{\\alpha}{2}} \\frac{\\sigma}{\\sqrt{n}}\\right) = 1-\\alpha$$"
   ]
  },
  {
   "cell_type": "markdown",
   "metadata": {},
   "source": [
    "Зафиксируем некоторое распределение"
   ]
  },
  {
   "cell_type": "code",
   "execution_count": 2,
   "metadata": {},
   "outputs": [],
   "source": [
    "population = stats.norm.rvs(loc=2, scale=5, size=100000)"
   ]
  },
  {
   "cell_type": "markdown",
   "metadata": {},
   "source": [
    "Сделаем сэмпл"
   ]
  },
  {
   "cell_type": "code",
   "execution_count": 3,
   "metadata": {},
   "outputs": [],
   "source": [
    "sample_size = 100\n",
    "sample = np.random.choice(a = population, size = sample_size)"
   ]
  },
  {
   "cell_type": "code",
   "execution_count": 4,
   "metadata": {},
   "outputs": [],
   "source": [
    "sample_mean = sample.mean()\n",
    "std_dev = population.std()"
   ]
  },
  {
   "cell_type": "markdown",
   "metadata": {},
   "source": [
    "Найдём z-value"
   ]
  },
  {
   "cell_type": "code",
   "execution_count": 5,
   "metadata": {},
   "outputs": [
    {
     "name": "stdout",
     "output_type": "stream",
     "text": [
      "z-value: 1.959963984540054\n"
     ]
    }
   ],
   "source": [
    "z_value = stats.norm.ppf(q = 0.975)  \n",
    "print(\"z-value:\", z_value)      "
   ]
  },
  {
   "cell_type": "markdown",
   "metadata": {},
   "source": [
    "В силу симметричности для левой границы:"
   ]
  },
  {
   "cell_type": "code",
   "execution_count": 6,
   "metadata": {},
   "outputs": [
    {
     "data": {
      "text/plain": [
       "-1.9599639845400545"
      ]
     },
     "execution_count": 6,
     "metadata": {},
     "output_type": "execute_result"
    }
   ],
   "source": [
    "stats.norm.ppf(q = 0.025)"
   ]
  },
  {
   "cell_type": "markdown",
   "metadata": {},
   "source": [
    "Найдём доверительный интервал:"
   ]
  },
  {
   "cell_type": "code",
   "execution_count": 7,
   "metadata": {},
   "outputs": [
    {
     "name": "stdout",
     "output_type": "stream",
     "text": [
      "Confidence interval: (1.4183431680106628, 3.3673531608119176)\n"
     ]
    }
   ],
   "source": [
    "interval = z_value * (std_dev/np.sqrt(sample_size))\n",
    "conf_inv = (sample_mean - interval, sample_mean + interval)  \n",
    "\n",
    "print(\"Confidence interval:\", conf_inv)"
   ]
  },
  {
   "cell_type": "code",
   "execution_count": 8,
   "metadata": {},
   "outputs": [],
   "source": [
    "def compute_ci(sample, st_dev):\n",
    "    \n",
    "    z_value = stats.norm.ppf(q = 0.975)\n",
    "    sample_size = len(sample)\n",
    "    interval = z_value * (st_dev/np.sqrt(sample_size))\n",
    "    conf_inv = (sample_mean - interval, sample_mean + interval)\n",
    "    \n",
    "    return conf_inv"
   ]
  },
  {
   "cell_type": "markdown",
   "metadata": {},
   "source": [
    "Найдём доверительный интервал для выборки большего размера"
   ]
  },
  {
   "cell_type": "code",
   "execution_count": 9,
   "metadata": {},
   "outputs": [
    {
     "name": "stdout",
     "output_type": "stream",
     "text": [
      "conf interval for 2000 sample size: (2.174942222774791, 2.6107541060477892)\n"
     ]
    }
   ],
   "source": [
    "np.random.seed(5)\n",
    "sample_size = 2000\n",
    "sample = np.random.choice(a = population, size = sample_size)\n",
    "\n",
    "ci = compute_ci(sample, std_dev)\n",
    "\n",
    "print(\"conf interval for 2000 sample size:\", ci)"
   ]
  },
  {
   "cell_type": "markdown",
   "metadata": {},
   "source": [
    "## Неизвестная дисперсия"
   ]
  },
  {
   "cell_type": "markdown",
   "metadata": {},
   "source": [
    "Если дисперсия нам неизвестна распределние Стьюдента может заменить нормальное."
   ]
  },
  {
   "cell_type": "markdown",
   "metadata": {},
   "source": [
    "$${P}\\left( \\bar{X} - t_{1-\\frac{\\alpha}{2},n-1} \\frac{S}{\\sqrt{n}} \\le \\mu \\le \\bar{X} + t_{1-\\frac{\\alpha}{2},n-1} \\frac{S}{\\sqrt{n}}\\right) = 1-\\alpha$$"
   ]
  },
  {
   "cell_type": "code",
   "execution_count": 10,
   "metadata": {},
   "outputs": [],
   "source": [
    "#Алгоритм поиска доверительного интервала не отличается, только z-value заменяется на t-value:\n",
    "def compute_ci_t(sample, alpha=0.95):\n",
    "    \n",
    "    n = sample.shape[0]\n",
    "    mu, se = np.mean(sample), stats.sem(sample)\n",
    "    bound = se * stats.t.ppf((1 + alpha) / 2., n-1)\n",
    "    \n",
    "    return mu - bound, mu + bound"
   ]
  },
  {
   "cell_type": "code",
   "execution_count": 11,
   "metadata": {},
   "outputs": [],
   "source": [
    "taxi_mex = pd.read_csv('C:\\\\Users\\\\Астемир\\\\Desktop\\\\ML\\\\Courses\\\\coursera\\\\week2\\\\mex_clean.csv')"
   ]
  },
  {
   "cell_type": "code",
   "execution_count": 12,
   "metadata": {},
   "outputs": [
    {
     "data": {
      "text/plain": [
       "id                      int64\n",
       "vendor_id              object\n",
       "pickup_datetime        object\n",
       "dropoff_datetime       object\n",
       "pickup_longitude      float64\n",
       "pickup_latitude       float64\n",
       "dropoff_longitude     float64\n",
       "dropoff_latitude      float64\n",
       "store_and_fwd_flag     object\n",
       "trip_duration           int64\n",
       "dist_meters             int64\n",
       "wait_sec                int64\n",
       "dtype: object"
      ]
     },
     "execution_count": 12,
     "metadata": {},
     "output_type": "execute_result"
    }
   ],
   "source": [
    "taxi_mex.dtypes"
   ]
  },
  {
   "cell_type": "code",
   "execution_count": 13,
   "metadata": {},
   "outputs": [],
   "source": [
    "def generate_distribution_sample(data, sample_size, dist_size):\n",
    "    \n",
    "    sample_means = []\n",
    "    for i in tqdm(range(dist_size)):\n",
    "        sample = np.random.choice(a = data, size = sample_size)\n",
    "        sample_means.append(np.mean(sample))\n",
    "        \n",
    "    return sample_means"
   ]
  },
  {
   "cell_type": "code",
   "execution_count": 14,
   "metadata": {},
   "outputs": [],
   "source": [
    "sample_size = 10000\n",
    "dist_size = 50000"
   ]
  },
  {
   "cell_type": "code",
   "execution_count": 15,
   "metadata": {},
   "outputs": [
    {
     "name": "stderr",
     "output_type": "stream",
     "text": [
      "100%|██████████████████████████████████████████████████████████████████████████| 50000/50000 [00:29<00:00, 1718.43it/s]\n"
     ]
    }
   ],
   "source": [
    "sample_means = generate_distribution_sample(taxi_mex['dist_meters']/1000, sample_size, dist_size)"
   ]
  },
  {
   "cell_type": "code",
   "execution_count": 16,
   "metadata": {},
   "outputs": [
    {
     "data": {
      "image/png": "[encoded data removed]",
      "text/plain": [
       "<Figure size 432x288 with 1 Axes>"
      ]
     },
     "metadata": {
      "needs_background": "light"
     },
     "output_type": "display_data"
    }
   ],
   "source": [
    "plt.hist(sample_means, bins=100);\n",
    "plt.xlabel('distance in km');"
   ]
  },
  {
   "cell_type": "code",
   "execution_count": 17,
   "metadata": {},
   "outputs": [
    {
     "name": "stdout",
     "output_type": "stream",
     "text": [
      "conf interval for bootstrap: (6.4607750025, 6.902380405000001)\n"
     ]
    }
   ],
   "source": [
    "np.sort(sample_means)\n",
    "lb = np.percentile(sample_means, 2.5)\n",
    "ub = np.percentile(sample_means, 97.5)\n",
    "print(\"conf interval for bootstrap:\", (lb, ub))"
   ]
  },
  {
   "cell_type": "code",
   "execution_count": null,
   "metadata": {},
   "outputs": [],
   "source": []
  }
 ],
 "metadata": {
  "kernelspec": {
   "display_name": "Python 3",
   "language": "python",
   "name": "python3"
  },
  "language_info": {
   "codemirror_mode": {
    "name": "ipython",
    "version": 3
   },
   "file_extension": ".py",
   "mimetype": "text/x-python",
   "name": "python",
   "nbconvert_exporter": "python",
   "pygments_lexer": "ipython3",
   "version": "3.8.3"
  }
 },
 "nbformat": 4,
 "nbformat_minor": 4
}
