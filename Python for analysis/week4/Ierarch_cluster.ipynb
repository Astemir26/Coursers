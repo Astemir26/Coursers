{
 "cells": [
  {
   "cell_type": "code",
   "execution_count": 1,
   "metadata": {},
   "outputs": [],
   "source": [
    "import pandas as pd\n",
    "import numpy as np\n",
    "import matplotlib.pyplot as plt\n",
    "%matplotlib inline\n",
    "plt.style.use('ggplot')\n",
    "plt.rcParams['figure.figsize'] = (12,8)\n"
   ]
  },
  {
   "cell_type": "code",
   "execution_count": 4,
   "metadata": {},
   "outputs": [],
   "source": [
    "df = pd.read_csv('C:\\\\Users\\\\Астемир\\\\Desktop\\\\ML\\\\Courses\\\\coursera\\\\week4\\\\food.txt', sep = \" \")"
   ]
  },
  {
   "cell_type": "code",
   "execution_count": 6,
   "metadata": {},
   "outputs": [
    {
     "data": {
      "text/html": [
       "<div>\n",
       "<style scoped>\n",
       "    .dataframe tbody tr th:only-of-type {\n",
       "        vertical-align: middle;\n",
       "    }\n",
       "\n",
       "    .dataframe tbody tr th {\n",
       "        vertical-align: top;\n",
       "    }\n",
       "\n",
       "    .dataframe thead th {\n",
       "        text-align: right;\n",
       "    }\n",
       "</style>\n",
       "<table border=\"1\" class=\"dataframe\">\n",
       "  <thead>\n",
       "    <tr style=\"text-align: right;\">\n",
       "      <th></th>\n",
       "      <th>Name</th>\n",
       "      <th>Energy</th>\n",
       "      <th>Protein</th>\n",
       "      <th>Fat</th>\n",
       "      <th>Calcium</th>\n",
       "      <th>Iron</th>\n",
       "    </tr>\n",
       "  </thead>\n",
       "  <tbody>\n",
       "    <tr>\n",
       "      <th>0</th>\n",
       "      <td>Braised beef</td>\n",
       "      <td>340</td>\n",
       "      <td>20</td>\n",
       "      <td>28</td>\n",
       "      <td>9</td>\n",
       "      <td>2.6</td>\n",
       "    </tr>\n",
       "    <tr>\n",
       "      <th>1</th>\n",
       "      <td>Hamburger</td>\n",
       "      <td>245</td>\n",
       "      <td>21</td>\n",
       "      <td>17</td>\n",
       "      <td>9</td>\n",
       "      <td>2.7</td>\n",
       "    </tr>\n",
       "    <tr>\n",
       "      <th>2</th>\n",
       "      <td>Roast beef</td>\n",
       "      <td>420</td>\n",
       "      <td>15</td>\n",
       "      <td>39</td>\n",
       "      <td>7</td>\n",
       "      <td>2.0</td>\n",
       "    </tr>\n",
       "    <tr>\n",
       "      <th>3</th>\n",
       "      <td>Beefsteak</td>\n",
       "      <td>375</td>\n",
       "      <td>19</td>\n",
       "      <td>32</td>\n",
       "      <td>9</td>\n",
       "      <td>2.6</td>\n",
       "    </tr>\n",
       "    <tr>\n",
       "      <th>4</th>\n",
       "      <td>Canned beef</td>\n",
       "      <td>180</td>\n",
       "      <td>22</td>\n",
       "      <td>10</td>\n",
       "      <td>17</td>\n",
       "      <td>3.7</td>\n",
       "    </tr>\n",
       "  </tbody>\n",
       "</table>\n",
       "</div>"
      ],
      "text/plain": [
       "           Name  Energy  Protein  Fat  Calcium  Iron\n",
       "0  Braised beef     340       20   28        9   2.6\n",
       "1     Hamburger     245       21   17        9   2.7\n",
       "2    Roast beef     420       15   39        7   2.0\n",
       "3     Beefsteak     375       19   32        9   2.6\n",
       "4   Canned beef     180       22   10       17   3.7"
      ]
     },
     "execution_count": 6,
     "metadata": {},
     "output_type": "execute_result"
    }
   ],
   "source": [
    "df.head()"
   ]
  },
  {
   "cell_type": "code",
   "execution_count": 7,
   "metadata": {},
   "outputs": [],
   "source": [
    "X = df.iloc[:,1:].values\n",
    "X = (X - X.mean(axis=0))/(X.std())"
   ]
  },
  {
   "cell_type": "code",
   "execution_count": 8,
   "metadata": {},
   "outputs": [],
   "source": [
    "from scipy.cluster.hierarchy import linkage, fcluster, dendrogram"
   ]
  },
  {
   "cell_type": "code",
   "execution_count": 10,
   "metadata": {},
   "outputs": [
    {
     "data": {
      "text/plain": [
       "array([[0.00000000e+00, 1.00000000e+01, 1.05430290e-03, 2.00000000e+00],\n",
       "       [1.10000000e+01, 2.70000000e+01, 1.49287090e-02, 3.00000000e+00],\n",
       "       [6.00000000e+00, 2.50000000e+01, 5.28099470e-02, 2.00000000e+00],\n",
       "       [1.30000000e+01, 2.00000000e+01, 6.07940709e-02, 2.00000000e+00],\n",
       "       [4.00000000e+00, 1.40000000e+01, 1.01125182e-01, 2.00000000e+00],\n",
       "       [1.50000000e+01, 1.90000000e+01, 1.23407494e-01, 2.00000000e+00],\n",
       "       [2.20000000e+01, 3.00000000e+01, 1.24920143e-01, 3.00000000e+00],\n",
       "       [7.00000000e+00, 2.90000000e+01, 1.29676610e-01, 3.00000000e+00],\n",
       "       [1.20000000e+01, 2.80000000e+01, 1.59434422e-01, 4.00000000e+00],\n",
       "       [3.10000000e+01, 3.40000000e+01, 1.85747552e-01, 5.00000000e+00],\n",
       "       [1.00000000e+00, 8.00000000e+00, 2.13482670e-01, 2.00000000e+00],\n",
       "       [5.00000000e+00, 3.20000000e+01, 2.53196771e-01, 3.00000000e+00],\n",
       "       [1.60000000e+01, 1.70000000e+01, 2.80008242e-01, 2.00000000e+00],\n",
       "       [3.30000000e+01, 3.60000000e+01, 3.07469146e-01, 8.00000000e+00],\n",
       "       [3.00000000e+00, 3.50000000e+01, 3.31350024e-01, 5.00000000e+00],\n",
       "       [2.10000000e+01, 2.30000000e+01, 3.72336141e-01, 2.00000000e+00],\n",
       "       [9.00000000e+00, 3.70000000e+01, 4.80099232e-01, 3.00000000e+00],\n",
       "       [1.80000000e+01, 3.80000000e+01, 4.84115039e-01, 4.00000000e+00],\n",
       "       [2.60000000e+01, 3.90000000e+01, 6.11591134e-01, 3.00000000e+00],\n",
       "       [4.00000000e+01, 4.40000000e+01, 7.04079508e-01, 1.20000000e+01],\n",
       "       [2.00000000e+00, 4.10000000e+01, 7.46770552e-01, 6.00000000e+00],\n",
       "       [4.30000000e+01, 4.70000000e+01, 9.72917963e-01, 9.00000000e+00],\n",
       "       [4.20000000e+01, 4.50000000e+01, 1.04663547e+00, 5.00000000e+00],\n",
       "       [4.60000000e+01, 4.90000000e+01, 1.37827812e+00, 1.70000000e+01],\n",
       "       [4.80000000e+01, 5.00000000e+01, 2.08129864e+00, 2.60000000e+01],\n",
       "       [2.40000000e+01, 5.10000000e+01, 3.69980695e+00, 2.70000000e+01]])"
      ]
     },
     "execution_count": 10,
     "metadata": {},
     "output_type": "execute_result"
    }
   ],
   "source": [
    "Z = linkage(X, method = \"average\", metric = \"euclidean\")\n",
    "Z"
   ]
  },
  {
   "cell_type": "code",
   "execution_count": 22,
   "metadata": {},
   "outputs": [
    {
     "data": {
      "image/png": "[encoded data removed]",
      "text/plain": [
       "<Figure size 864x576 with 1 Axes>"
      ]
     },
     "metadata": {},
     "output_type": "display_data"
    }
   ],
   "source": [
    "dend = dendrogram(Z, orientation = 'left', color_threshold = 0.0)"
   ]
  },
  {
   "cell_type": "code",
   "execution_count": 25,
   "metadata": {},
   "outputs": [
    {
     "data": {
      "text/plain": [
       "array([1, 2, 3, 4], dtype=int32)"
      ]
     },
     "execution_count": 25,
     "metadata": {},
     "output_type": "execute_result"
    }
   ],
   "source": [
    "label = fcluster(Z, 1.2,criterion = 'distance')\n",
    "np.unique(label)"
   ]
  },
  {
   "cell_type": "code",
   "execution_count": 26,
   "metadata": {},
   "outputs": [],
   "source": [
    "df.loc[:,'label'] = label"
   ]
  },
  {
   "cell_type": "code",
   "execution_count": 27,
   "metadata": {},
   "outputs": [
    {
     "name": "stdout",
     "output_type": "stream",
     "text": [
      "= 10\n",
      "cluster 1\n",
      "                   Name  Energy  Protein  Fat  Calcium  Iron  label\n",
      "0          Braised beef     340       20   28        9   2.6      1\n",
      "1             Hamburger     245       21   17        9   2.7      1\n",
      "2            Roast beef     420       15   39        7   2.0      1\n",
      "3             Beefsteak     375       19   32        9   2.6      1\n",
      "8        Roast lamb leg     265       20   20        9   2.6      1\n",
      "9   Roast lamb shoulder     300       18   25        9   2.3      1\n",
      "10           Smoked ham     340       20   28        9   2.5      1\n",
      "11           Pork roast     340       19   29        9   2.5      1\n",
      "12        Pork simmered     355       19   30        9   2.4      1\n",
      "= 10\n",
      "cluster 2\n",
      "                Name  Energy  Protein  Fat  Calcium  Iron  label\n",
      "4        Canned beef     180       22   10       17   3.7      2\n",
      "5    Broiled chicken     115       20    3        8   1.4      2\n",
      "6     Canned chicken     170       25    7       12   1.5      2\n",
      "7         Beef heart     160       26    5       14   5.9      2\n",
      "13       Beef tongue     205       18   14        7   2.5      2\n",
      "14       Veal cutlet     185       23    9        9   2.7      2\n",
      "15    Baked bluefish     135       22    4       25   0.6      2\n",
      "18   Canned crabmeat      90       14    2       38   0.8      2\n",
      "19     Fried haddock     135       16    5       15   0.5      2\n",
      "20  Broiled mackerel     200       19   13        5   1.0      2\n",
      "22       Fried perch     195       16   11       14   1.3      2\n",
      "25       Canned tuna     170       25    7        7   1.2      2\n",
      "= 10\n",
      "cluster 3\n",
      "               Name  Energy  Protein  Fat  Calcium  Iron  label\n",
      "16        Raw clams      70       11    1       82   6.0      3\n",
      "17     Canned clams      45        7    1       74   5.4      3\n",
      "21  Canned mackerel     155       16    9      157   1.8      3\n",
      "23    Canned salmon     120       17    5      159   0.7      3\n",
      "26    Canned shrimp     110       23    1       98   2.6      3\n",
      "= 10\n",
      "cluster 4\n",
      "               Name  Energy  Protein  Fat  Calcium  Iron  label\n",
      "24  Canned sardines     180       22    9      367   2.5      4\n"
     ]
    }
   ],
   "source": [
    "for i,group in df.groupby(\"label\"):\n",
    "    print(\"=\", 10)\n",
    "    print('cluster {}'.format(i))\n",
    "    print(group)"
   ]
  },
  {
   "cell_type": "code",
   "execution_count": null,
   "metadata": {},
   "outputs": [],
   "source": []
  }
 ],
 "metadata": {
  "kernelspec": {
   "display_name": "Python 3",
   "language": "python",
   "name": "python3"
  },
  "language_info": {
   "codemirror_mode": {
    "name": "ipython",
    "version": 3
   },
   "file_extension": ".py",
   "mimetype": "text/x-python",
   "name": "python",
   "nbconvert_exporter": "python",
   "pygments_lexer": "ipython3",
   "version": "3.8.3"
  }
 },
 "nbformat": 4,
 "nbformat_minor": 4
}
